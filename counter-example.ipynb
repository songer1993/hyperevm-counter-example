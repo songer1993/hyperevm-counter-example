{
 "cells": [
  {
   "cell_type": "markdown",
   "metadata": {},
   "source": [
    "Depoly counter contract"
   ]
  },
  {
   "cell_type": "code",
   "execution_count": 7,
   "metadata": {},
   "outputs": [
    {
     "name": "stdout",
     "output_type": "stream",
     "text": [
      "Contract deployed at: 0xfD09670395Da97077dC885D0897fc3046C4ac8D1\n"
     ]
    }
   ],
   "source": [
    "from web3 import Web3\n",
    "from eth_account import Account\n",
    "import json\n",
    "import os\n",
    "from dotenv import load_dotenv\n",
    "load_dotenv()\n",
    "\n",
    "# Connect to Hyperliquid testnet\n",
    "w3 = Web3(Web3.HTTPProvider('https://api.hyperliquid-testnet.xyz/evm'))\n",
    "\n",
    "# Your private key (keep this secret and safe!)\n",
    "private_key = os.getenv('DEPLOYER_PRIVATE_KEY')\n",
    "account = Account.from_key(private_key)\n",
    "\n",
    "# Load compiled contract data\n",
    "with open('./bin/Counter.abi', 'r') as f:\n",
    "    abi = json.loads(f.read())\n",
    "    \n",
    "with open('./bin/Counter.bin', 'r') as f:\n",
    "    bytecode = '0x' + f.read()\n",
    "\n",
    "# Create contract instance\n",
    "Counter = w3.eth.contract(abi=abi, bytecode=bytecode)\n",
    "\n",
    "# Build transaction\n",
    "transaction = Counter.constructor().build_transaction({\n",
    "    'from': account.address,\n",
    "    'nonce': w3.eth.get_transaction_count(account.address),\n",
    "    'gas': 1000000,\n",
    "    'gasPrice': w3.eth.gas_price\n",
    "})\n",
    "\n",
    "# Sign transaction\n",
    "signed = w3.eth.account.sign_transaction(transaction, private_key)\n",
    "\n",
    "# Send transaction\n",
    "tx_hash = w3.eth.send_raw_transaction(signed.raw_transaction)  # Changed from rawTransaction to raw_transaction\n",
    "\n",
    "# Wait for transaction receipt\n",
    "tx_receipt = w3.eth.wait_for_transaction_receipt(tx_hash)\n",
    "\n",
    "print(f\"Contract deployed at: {tx_receipt.contractAddress}\")"
   ]
  },
  {
   "cell_type": "markdown",
   "metadata": {},
   "source": [
    "Test the deployed contract"
   ]
  },
  {
   "cell_type": "code",
   "execution_count": 9,
   "metadata": {},
   "outputs": [
    {
     "name": "stdout",
     "output_type": "stream",
     "text": [
      "Initial count: 0\n",
      "Increment transaction successful! Hash: 66743e9d14fece37816782eb280c7317f47e8674812cb15322ed4dcef449d890\n",
      "New count: 1\n"
     ]
    }
   ],
   "source": [
    "# Create contract instance at deployed address\n",
    "contract_address = '0xfD09670395Da97077dC885D0897fc3046C4ac8D1'  # The address from your deployment\n",
    "counter = w3.eth.contract(address=contract_address, abi=abi)\n",
    "\n",
    "# Read initial count (call function)\n",
    "initial_count = counter.functions.getCount().call()  # Changed from get() to getCount()\n",
    "print(f\"Initial count: {initial_count}\")\n",
    "\n",
    "# Increment count (send transaction)\n",
    "increment_txn = counter.functions.increment().build_transaction({\n",
    "    'from': account.address,\n",
    "    'nonce': w3.eth.get_transaction_count(account.address),\n",
    "    'gas': 100000,\n",
    "    'gasPrice': w3.eth.gas_price\n",
    "})\n",
    "\n",
    "# Sign and send transaction\n",
    "signed_txn = w3.eth.account.sign_transaction(increment_txn, private_key)\n",
    "tx_hash = w3.eth.send_raw_transaction(signed_txn.raw_transaction)\n",
    "\n",
    "# Wait for transaction to be mined\n",
    "tx_receipt = w3.eth.wait_for_transaction_receipt(tx_hash)\n",
    "print(f\"Increment transaction successful! Hash: {tx_hash.hex()}\")\n",
    "\n",
    "# Read new count\n",
    "new_count = counter.functions.getCount().call()  # Changed from get() to getCount()\n",
    "print(f\"New count: {new_count}\")"
   ]
  }
 ],
 "metadata": {
  "kernelspec": {
   "display_name": "quant",
   "language": "python",
   "name": "python3"
  },
  "language_info": {
   "codemirror_mode": {
    "name": "ipython",
    "version": 3
   },
   "file_extension": ".py",
   "mimetype": "text/x-python",
   "name": "python",
   "nbconvert_exporter": "python",
   "pygments_lexer": "ipython3",
   "version": "3.10.15"
  }
 },
 "nbformat": 4,
 "nbformat_minor": 2
}
